{
  "nbformat": 4,
  "nbformat_minor": 0,
  "metadata": {
    "colab": {
      "provenance": []
    },
    "kernelspec": {
      "name": "python3",
      "display_name": "Python 3"
    },
    "language_info": {
      "name": "python"
    }
  },
  "cells": [
    {
      "cell_type": "code",
      "execution_count": null,
      "metadata": {
        "colab": {
          "base_uri": "https://localhost:8080/"
        },
        "id": "y4kQBujamr6X",
        "outputId": "5798ece8-9df0-4401-c826-be6dfb3ac287"
      },
      "outputs": [
        {
          "output_type": "stream",
          "name": "stdout",
          "text": [
            "Python 3.10.12\n"
          ]
        }
      ],
      "source": [
        "!python --version"
      ]
    },
    {
      "cell_type": "code",
      "source": [
        "!which python"
      ],
      "metadata": {
        "colab": {
          "base_uri": "https://localhost:8080/"
        },
        "id": "XZ2v4P-dm89e",
        "outputId": "dbfa85c9-c165-4d77-b8f4-a1f8ca455f76"
      },
      "execution_count": null,
      "outputs": [
        {
          "output_type": "stream",
          "name": "stdout",
          "text": [
            "/usr/local/bin/python\n"
          ]
        }
      ]
    },
    {
      "cell_type": "code",
      "source": [
        "%env PYTHONPATH="
      ],
      "metadata": {
        "colab": {
          "base_uri": "https://localhost:8080/"
        },
        "id": "nCwhQMvXnjX_",
        "outputId": "d7786cb6-6cd0-40e3-a137-24e11c0f4a5e"
      },
      "execution_count": null,
      "outputs": [
        {
          "output_type": "stream",
          "name": "stdout",
          "text": [
            "env: PYTHONPATH=\n"
          ]
        }
      ]
    },
    {
      "cell_type": "code",
      "source": [
        "# install virtual environment package\n",
        "!pip install virtualenv"
      ],
      "metadata": {
        "colab": {
          "base_uri": "https://localhost:8080/"
        },
        "id": "g_nHdLannkTR",
        "outputId": "aebe9cc3-aaa4-4cde-efd3-950cd9045ff7"
      },
      "execution_count": null,
      "outputs": [
        {
          "output_type": "stream",
          "name": "stdout",
          "text": [
            "Collecting virtualenv\n",
            "  Downloading virtualenv-20.26.0-py3-none-any.whl (3.9 MB)\n",
            "\u001b[2K     \u001b[90m━━━━━━━━━━━━━━━━━━━━━━━━━━━━━━━━━━━━━━━━\u001b[0m \u001b[32m3.9/3.9 MB\u001b[0m \u001b[31m17.6 MB/s\u001b[0m eta \u001b[36m0:00:00\u001b[0m\n",
            "\u001b[?25hCollecting distlib<1,>=0.3.7 (from virtualenv)\n",
            "  Downloading distlib-0.3.8-py2.py3-none-any.whl (468 kB)\n",
            "\u001b[2K     \u001b[90m━━━━━━━━━━━━━━━━━━━━━━━━━━━━━━━━━━━━━━━━\u001b[0m \u001b[32m468.9/468.9 kB\u001b[0m \u001b[31m22.4 MB/s\u001b[0m eta \u001b[36m0:00:00\u001b[0m\n",
            "\u001b[?25hRequirement already satisfied: filelock<4,>=3.12.2 in /usr/local/lib/python3.10/dist-packages (from virtualenv) (3.13.4)\n",
            "Requirement already satisfied: platformdirs<5,>=3.9.1 in /usr/local/lib/python3.10/dist-packages (from virtualenv) (4.2.0)\n",
            "Installing collected packages: distlib, virtualenv\n",
            "Successfully installed distlib-0.3.8 virtualenv-20.26.0\n"
          ]
        }
      ]
    },
    {
      "cell_type": "code",
      "source": [
        "# create virtual environment\n",
        "!virtualenv myenv"
      ],
      "metadata": {
        "colab": {
          "base_uri": "https://localhost:8080/"
        },
        "id": "rB-3Wm6-nkWJ",
        "outputId": "50bbfa9c-5704-4c40-81cb-3da083c91583"
      },
      "execution_count": null,
      "outputs": [
        {
          "output_type": "stream",
          "name": "stdout",
          "text": [
            "created virtual environment CPython3.10.12.final.0-64 in 1128ms\n",
            "  creator CPython3Posix(dest=/content/myenv, clear=False, no_vcs_ignore=False, global=False)\n",
            "  seeder FromAppData(download=False, pip=bundle, setuptools=bundle, wheel=bundle, via=copy, app_data_dir=/root/.local/share/virtualenv)\n",
            "    added seed packages: pip==24.0, setuptools==69.5.1, wheel==0.43.0\n",
            "  activators BashActivator,CShellActivator,FishActivator,NushellActivator,PowerShellActivator,PythonActivator\n"
          ]
        }
      ]
    },
    {
      "cell_type": "code",
      "source": [
        "!wget https://repo.anaconda.com/miniconda/Miniconda3-latest-Linux-x86_64.sh"
      ],
      "metadata": {
        "colab": {
          "base_uri": "https://localhost:8080/"
        },
        "id": "RGFbjG6OnkZT",
        "outputId": "2f9ad8c4-28bb-4d22-e621-0f9996c416b4"
      },
      "execution_count": null,
      "outputs": [
        {
          "output_type": "stream",
          "name": "stdout",
          "text": [
            "--2024-04-27 17:35:22--  https://repo.anaconda.com/miniconda/Miniconda3-latest-Linux-x86_64.sh\n",
            "Resolving repo.anaconda.com (repo.anaconda.com)... 104.16.191.158, 104.16.32.241, 2606:4700::6810:bf9e, ...\n",
            "Connecting to repo.anaconda.com (repo.anaconda.com)|104.16.191.158|:443... connected.\n",
            "HTTP request sent, awaiting response... 200 OK\n",
            "Length: 143351488 (137M) [application/octet-stream]\n",
            "Saving to: ‘Miniconda3-latest-Linux-x86_64.sh’\n",
            "\n",
            "Miniconda3-latest-L 100%[===================>] 136.71M   166MB/s    in 0.8s    \n",
            "\n",
            "2024-04-27 17:35:23 (166 MB/s) - ‘Miniconda3-latest-Linux-x86_64.sh’ saved [143351488/143351488]\n",
            "\n"
          ]
        }
      ]
    },
    {
      "cell_type": "code",
      "source": [
        "!chmod +x Miniconda3-latest-Linux-x86_64.sh"
      ],
      "metadata": {
        "id": "cSF9As_Jnkcu"
      },
      "execution_count": null,
      "outputs": []
    },
    {
      "cell_type": "code",
      "source": [
        "!./Miniconda3-latest-Linux-x86_64.sh -b -f -p /usr/local"
      ],
      "metadata": {
        "colab": {
          "base_uri": "https://localhost:8080/"
        },
        "id": "k3xJ3AH2oIRJ",
        "outputId": "f102b302-1db3-477f-ffe7-bc7e445edfaf"
      },
      "execution_count": null,
      "outputs": [
        {
          "output_type": "stream",
          "name": "stdout",
          "text": [
            "PREFIX=/usr/local\n",
            "Unpacking payload ...\n",
            "\n",
            "Installing base environment...\n",
            "\n",
            "Preparing transaction: ...working... done\n",
            "Executing transaction: ...working... done\n",
            "installation finished.\n"
          ]
        }
      ]
    },
    {
      "cell_type": "code",
      "source": [
        "!conda install -q -y --prefix /usr/local python=3.8 ujson"
      ],
      "metadata": {
        "colab": {
          "base_uri": "https://localhost:8080/"
        },
        "id": "ZoIMzgPZoLuO",
        "outputId": "daacdad2-599b-4319-e56b-099c34a88340"
      },
      "execution_count": null,
      "outputs": [
        {
          "output_type": "stream",
          "name": "stdout",
          "text": [
            "Channels:\n",
            " - defaults\n",
            "Platform: linux-64\n",
            "Collecting package metadata (repodata.json): ...working... done\n",
            "Solving environment: ...working... done\n",
            "\n",
            "## Package Plan ##\n",
            "\n",
            "  environment location: /usr/local\n",
            "\n",
            "  added / updated specs:\n",
            "    - python=3.8\n",
            "    - ujson\n",
            "\n",
            "\n",
            "The following packages will be downloaded:\n",
            "\n",
            "    package                    |            build\n",
            "    ---------------------------|-----------------\n",
            "    anaconda-anon-usage-0.4.4  | py38hfc0e8ea_100          25 KB\n",
            "    boltons-23.0.0             |   py38h06a4308_0         426 KB\n",
            "    brotli-python-1.0.9        |   py38h6a678d5_7         329 KB\n",
            "    certifi-2024.2.2           |   py38h06a4308_0         159 KB\n",
            "    cffi-1.16.0                |   py38h5eee18b_0         252 KB\n",
            "    conda-24.3.0               |   py38h06a4308_0         947 KB\n",
            "    conda-content-trust-0.2.0  |   py38h06a4308_0          51 KB\n",
            "    conda-package-handling-2.2.0|   py38h06a4308_0         267 KB\n",
            "    conda-package-streaming-0.9.0|   py38h06a4308_0          27 KB\n",
            "    cryptography-42.0.5        |   py38hdda0065_0         2.1 MB\n",
            "    distro-1.8.0               |   py38h06a4308_0          31 KB\n",
            "    idna-3.4                   |   py38h06a4308_0          93 KB\n",
            "    jsonpatch-1.33             |   py38h06a4308_0          31 KB\n",
            "    libmambapy-1.5.8           |   py38h2dafd23_1         314 KB\n",
            "    menuinst-2.0.2             |   py38h06a4308_0         137 KB\n",
            "    packaging-23.2             |   py38h06a4308_0         145 KB\n",
            "    pip-23.3.1                 |   py38h06a4308_0         2.6 MB\n",
            "    platformdirs-3.10.0        |   py38h06a4308_0          33 KB\n",
            "    pluggy-1.0.0               |   py38h06a4308_1          28 KB\n",
            "    pycosat-0.6.6              |   py38h5eee18b_0          93 KB\n",
            "    pysocks-1.7.1              |   py38h06a4308_0          31 KB\n",
            "    python-3.8.19              |       h955ad1f_0        23.8 MB\n",
            "    requests-2.31.0            |   py38h06a4308_1          96 KB\n",
            "    ruamel.yaml-0.17.21        |   py38h5eee18b_0         178 KB\n",
            "    ruamel.yaml.clib-0.2.6     |   py38h5eee18b_1         143 KB\n",
            "    setuptools-68.2.2          |   py38h06a4308_0         948 KB\n",
            "    tqdm-4.65.0                |   py38hb070fc8_0         131 KB\n",
            "    ujson-5.4.0                |   py38h6a678d5_0          44 KB\n",
            "    urllib3-2.1.0              |   py38h06a4308_1         156 KB\n",
            "    wheel-0.41.2               |   py38h06a4308_0         108 KB\n",
            "    zstandard-0.19.0           |   py38h5eee18b_0         474 KB\n",
            "    ------------------------------------------------------------\n",
            "                                           Total:        34.0 MB\n",
            "\n",
            "The following NEW packages will be INSTALLED:\n",
            "\n",
            "  ruamel.yaml.clib   pkgs/main/linux-64::ruamel.yaml.clib-0.2.6-py38h5eee18b_1 \n",
            "  ujson              pkgs/main/linux-64::ujson-5.4.0-py38h6a678d5_0 \n",
            "\n",
            "The following packages will be REMOVED:\n",
            "\n",
            "  truststore-0.8.0-py312h06a4308_0\n",
            "\n",
            "The following packages will be DOWNGRADED:\n",
            "\n",
            "  anaconda-anon-usa~                0.4.4-py312hfc0e8ea_100 --> 0.4.4-py38hfc0e8ea_100 \n",
            "  boltons                            23.0.0-py312h06a4308_0 --> 23.0.0-py38h06a4308_0 \n",
            "  brotli-python                       1.0.9-py312h6a678d5_7 --> 1.0.9-py38h6a678d5_7 \n",
            "  certifi                          2024.2.2-py312h06a4308_0 --> 2024.2.2-py38h06a4308_0 \n",
            "  cffi                               1.16.0-py312h5eee18b_0 --> 1.16.0-py38h5eee18b_0 \n",
            "  conda                              24.3.0-py312h06a4308_0 --> 24.3.0-py38h06a4308_0 \n",
            "  conda-content-tru~                  0.2.0-py312h06a4308_0 --> 0.2.0-py38h06a4308_0 \n",
            "  conda-package-han~                  2.2.0-py312h06a4308_0 --> 2.2.0-py38h06a4308_0 \n",
            "  conda-package-str~                  0.9.0-py312h06a4308_0 --> 0.9.0-py38h06a4308_0 \n",
            "  cryptography                       42.0.5-py312hdda0065_0 --> 42.0.5-py38hdda0065_0 \n",
            "  distro                              1.8.0-py312h06a4308_0 --> 1.8.0-py38h06a4308_0 \n",
            "  idna                                  3.4-py312h06a4308_0 --> 3.4-py38h06a4308_0 \n",
            "  jsonpatch                            1.33-py312h06a4308_0 --> 1.33-py38h06a4308_0 \n",
            "  libmambapy                          1.5.8-py312h2dafd23_1 --> 1.5.8-py38h2dafd23_1 \n",
            "  menuinst                            2.0.2-py312h06a4308_0 --> 2.0.2-py38h06a4308_0 \n",
            "  packaging                            23.2-py312h06a4308_0 --> 23.2-py38h06a4308_0 \n",
            "  pip                                23.3.1-py312h06a4308_0 --> 23.3.1-py38h06a4308_0 \n",
            "  platformdirs                       3.10.0-py312h06a4308_0 --> 3.10.0-py38h06a4308_0 \n",
            "  pluggy                              1.0.0-py312h06a4308_1 --> 1.0.0-py38h06a4308_1 \n",
            "  pycosat                             0.6.6-py312h5eee18b_0 --> 0.6.6-py38h5eee18b_0 \n",
            "  pysocks                             1.7.1-py312h06a4308_0 --> 1.7.1-py38h06a4308_0 \n",
            "  python                                  3.12.2-h996f2a0_0 --> 3.8.19-h955ad1f_0 \n",
            "  requests                           2.31.0-py312h06a4308_1 --> 2.31.0-py38h06a4308_1 \n",
            "  ruamel.yaml                       0.17.21-py312h5eee18b_0 --> 0.17.21-py38h5eee18b_0 \n",
            "  setuptools                         68.2.2-py312h06a4308_0 --> 68.2.2-py38h06a4308_0 \n",
            "  tqdm                               4.65.0-py312he106c6f_0 --> 4.65.0-py38hb070fc8_0 \n",
            "  urllib3                             2.1.0-py312h06a4308_1 --> 2.1.0-py38h06a4308_1 \n",
            "  wheel                              0.41.2-py312h06a4308_0 --> 0.41.2-py38h06a4308_0 \n",
            "  zstandard                          0.19.0-py312h5eee18b_0 --> 0.19.0-py38h5eee18b_0 \n",
            "\n",
            "\n",
            "Preparing transaction: ...working... done\n",
            "Verifying transaction: ...working... done\n",
            "Executing transaction: ...working... done\n"
          ]
        }
      ]
    },
    {
      "cell_type": "code",
      "source": [
        "import sys\n",
        "sys.path.append('/usr/local/lib/python3.8/site-packages/')"
      ],
      "metadata": {
        "id": "y2_bVoYuoWBg"
      },
      "execution_count": null,
      "outputs": []
    },
    {
      "cell_type": "code",
      "source": [
        "# activate conda enviornment\n",
        "import os\n",
        "os.environ['CONDA_PREFIX'] = '/usr/local/envs/myenv'"
      ],
      "metadata": {
        "id": "DsYnAYZ1ogDf"
      },
      "execution_count": null,
      "outputs": []
    },
    {
      "cell_type": "code",
      "source": [
        "# python version in new enviornment\n",
        "!python --version"
      ],
      "metadata": {
        "id": "z_DXmiQ_okTD",
        "outputId": "d77c4d91-28d3-4cdd-cb3d-2a940ca74e2f",
        "colab": {
          "base_uri": "https://localhost:8080/"
        }
      },
      "execution_count": null,
      "outputs": [
        {
          "output_type": "stream",
          "name": "stdout",
          "text": [
            "Python 3.8.19\n"
          ]
        }
      ]
    },
    {
      "cell_type": "code",
      "source": [],
      "metadata": {
        "id": "7dTNxQxQooue"
      },
      "execution_count": null,
      "outputs": []
    }
  ]
}